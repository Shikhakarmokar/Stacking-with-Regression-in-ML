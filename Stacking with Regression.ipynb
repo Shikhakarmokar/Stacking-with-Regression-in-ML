{
 "cells": [
  {
   "cell_type": "code",
   "execution_count": 1,
   "id": "9f20b396-c9c0-46c1-8302-58deee2aaf6f",
   "metadata": {},
   "outputs": [],
   "source": [
    "from numpy import mean\n",
    "from sklearn.datasets import make_regression\n",
    "from sklearn.model_selection import cross_val_score,RepeatedKFold\n",
    "from sklearn.linear_model import LinearRegression\n",
    "from sklearn.neighbors import KNeighborsRegressor\n",
    "from sklearn.tree import DecisionTreeRegressor\n",
    "from sklearn.svm import SVR\n",
    "from sklearn.ensemble import StackingRegressor"
   ]
  },
  {
   "cell_type": "code",
   "execution_count": 2,
   "id": "4016399a-f3d2-4f78-86ef-b8dc7b924ea5",
   "metadata": {},
   "outputs": [],
   "source": [
    "x,y = make_regression(n_samples = 1000,n_features = 20,random_state=1)"
   ]
  },
  {
   "cell_type": "code",
   "execution_count": 4,
   "id": "0f19959a-c364-4ee3-b7f6-00b797f29f3e",
   "metadata": {},
   "outputs": [],
   "source": [
    "def get_stacking():\n",
    "    level0=list()\n",
    "    level0.append((\"knn\",KNeighborsRegressor()))\n",
    "    level0.append((\"svm\",SVR()))\n",
    "    level1 = LinearRegression()\n",
    "    model = StackingRegressor(estimators = level0,final_estimator=level1)\n",
    "    return model\n",
    "#level0 is base model\n",
    "#level1 is meta model"
   ]
  },
  {
   "cell_type": "code",
   "execution_count": 6,
   "id": "b07a3581-ffdf-49af-bb34-40b801ebf587",
   "metadata": {},
   "outputs": [],
   "source": [
    "def get_models():\n",
    "    models=dict()\n",
    "    models[\"knn\"]=KNeighborsRegressor()\n",
    "    models[\"cart\"]=DecisionTreeRegressor()\n",
    "    models[\"svm\"]=SVR()\n",
    "    models[\"stacking\"]=get_stacking()\n",
    "    return models"
   ]
  },
  {
   "cell_type": "code",
   "execution_count": 11,
   "id": "c59a84bc-c4f4-46bf-acd8-8f76faf5abf1",
   "metadata": {},
   "outputs": [],
   "source": [
    "def evaluate_model(model,x,y):\n",
    "    cv = RepeatedKFold(n_splits=10,n_repeats=3,random_state=1)\n",
    "    scores = cross_val_score(model,x,y,scoring=\"neg_mean_absolute_error\",cv=cv)\n",
    "    return scores"
   ]
  },
  {
   "cell_type": "code",
   "execution_count": 12,
   "id": "71c3fb6b-8e85-462c-9352-32cfde426708",
   "metadata": {},
   "outputs": [
    {
     "name": "stdout",
     "output_type": "stream",
     "text": [
      "knn -72.38368150286077\n",
      "cart -89.8244260038329\n",
      "svm -113.9538393363414\n",
      "stacking -42.45318578136722\n"
     ]
    }
   ],
   "source": [
    "models = get_models()\n",
    "results,names=list(),list()\n",
    "for name,model in models.items():\n",
    "    scores = evaluate_model(model,x,y)\n",
    "    results.append(scores)\n",
    "    names.append(model)\n",
    "    print(name,mean(scores))"
   ]
  },
  {
   "cell_type": "code",
   "execution_count": null,
   "id": "dea3fe49-26c8-42b7-9966-b0e472af706b",
   "metadata": {},
   "outputs": [],
   "source": []
  }
 ],
 "metadata": {
  "kernelspec": {
   "display_name": "Python 3 (ipykernel)",
   "language": "python",
   "name": "python3"
  },
  "language_info": {
   "codemirror_mode": {
    "name": "ipython",
    "version": 3
   },
   "file_extension": ".py",
   "mimetype": "text/x-python",
   "name": "python",
   "nbconvert_exporter": "python",
   "pygments_lexer": "ipython3",
   "version": "3.10.0"
  }
 },
 "nbformat": 4,
 "nbformat_minor": 5
}
